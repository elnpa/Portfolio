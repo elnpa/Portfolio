{
 "cells": [
  {
   "cell_type": "markdown",
   "metadata": {},
   "source": [
    "# IAB303 - Assignment 2\n",
    "## TOWS analysis report"
   ]
  },
  {
   "cell_type": "markdown",
   "metadata": {
    "tags": []
   },
   "source": [
    "## INSTRUCTIONS"
   ]
  },
  {
   "cell_type": "markdown",
   "metadata": {},
   "source": [
    "\n",
    "1. Read the assignment instructions on Canvas [UA2 - Instructions for TOWS analysis report assignment (Assign. 2)](https://canvas.qut.edu.au/courses/14658/pages/ua2-instructions-for-tows-analysis-report-assignment-assign-2).\n",
    "2. Complete the section below with your personal details (and run the cell)\n",
    "3. Use the provided data sources for your analysis. You may supplement this with additional relevant data if you like (but this is not required).\n",
    "4. Ensure that you include at least 1 complete analysis using *structured* data to identify *strengths* and/or *weaknesses*. Include appropriate visualisation. Add cells as required to the relevant sections.\n",
    "5. Ensure that you include at least 1 complete analysis using *semi/unstructured* data to identify *opportunities* and/or *threats*. Include appropriate visualisation. Add cells as required to the relevant sections.\n",
    "6. Ensure that you include at least 1 detailed actionable recommendation from a TOWS analysis using your data analytics from steps 3 & 4. Depending on how you approach the scenario, you may find a group of actionable recommendations may contribute to a larger strategic recommendation that addresses the scenario. Your recommendation/s should also address relevant human factors and potential ethical concerns that should be taken into account by the business decision-makers. Ensure that you write your recommendation/s in a way that is appropriate for reporting to stakeholders.\n",
    "7. Ensure that you use markdown cells to document your thinking and decision making throughout the analysis process. Be clear on how your decisions are working towards addressing the business concern.\n",
    "8. Ensure that you undertake a peer review process and complete the peer review section.\n",
    "9. Before handing in your notebook, clear all cell outputs and run the complete notebook. Ensure that it runs without errors and that all output is displaying. **IMPORTANT:** It is your responsibility to ensure that the notebook is in a state that clearly meets the criteria. It is not the responsibility of the marker to try and fix errors in your notebook in order for it to meet criteria. *Not attending to this point could result in lower grades (even if you have completed the required analysis).*\n",
    "10. Right-click on your notebook name (in file viewer) and select download. Ensure that your name and student ID are on the file, and then upload to the appropriate assignment upload link in blackboard."
   ]
  },
  {
   "cell_type": "code",
   "execution_count": 1,
   "metadata": {},
   "outputs": [
    {
     "name": "stderr",
     "output_type": "stream",
     "text": [
      "/tmp/ipykernel_1406/491540134.py:2: DeprecationWarning: Importing display from IPython.core.display is deprecated since IPython 7.14, please import from IPython display\n",
      "  from IPython.core.display import display, HTML\n"
     ]
    },
    {
     "data": {
      "text/html": [
       "<h1>Ellen Parker (10627120)</h1>"
      ],
      "text/plain": [
       "<IPython.core.display.HTML object>"
      ]
     },
     "metadata": {},
     "output_type": "display_data"
    }
   ],
   "source": [
    "# Complete the following cell with your details and run to produce your personalised header for this assignment\n",
    "from IPython.core.display import display, HTML\n",
    "\n",
    "first_name = \"Ellen\"\n",
    "last_name = \"Parker\"\n",
    "student_number = \"10627120\"\n",
    "\n",
    "personal_header = \"<h1>\"+first_name+\" \"+last_name+\" (\"+student_number+\")</h1>\"\n",
    "display(HTML(personal_header))"
   ]
  },
  {
   "cell_type": "markdown",
   "metadata": {
    "tags": []
   },
   "source": [
    "---\n",
    "## SCENARIO\n",
    "\n"
   ]
  },
  {
   "cell_type": "markdown",
   "metadata": {},
   "source": [
    "You are working as a data analyst for a small Queensland business that is supplies luxury hire cars for tourists visiting Queensland. The managing director of the business is considering scaling back petrol vehicles and focusing the business more on the emerging green tourism segment of the market, by providing a way for tourists to undertake roadtrips up the queensland coast in hybrid or electric vehicles. \n",
    "\n",
    "**Your task is to undertake an analysis of threats/oppportunities, and weaknesses/strengths, and by conducting a TOWS analysis provide actionable recommendations to the managing director.**\n",
    "\n",
    "You must use the following 3 data sources in your analysis. However, you can augment these sources with additional relevant data if you wish.\n",
    "\n",
    "1. Current company vehicle data (see UA2-Current_vehicles.csv in data folder)<sup>1</sup>\n",
    "2. [QLD EV charging network](https://www.data.qld.gov.au/dataset/find-a-charging-station-electric-vehicle) - see also [Queensland's Zero Emission Vehicle Strategy](https://www.qld.gov.au/transport/projects/electricvehicles/zero-emission-strategy) and [The Future is Electric - Queensland's Electric Super Highway](https://www.stateoftheenvironment.des.qld.gov.au/pollution/case-studies/case-study-4)\n",
    "3. [The Guardian OpenPlatform](https://open-platform.theguardian.com)\n"
   ]
  },
  {
   "cell_type": "markdown",
   "metadata": {
    "tags": []
   },
   "source": [
    "\n",
    "<sup>1</sup>*data adapted from [Cornell Car Rental Dataset](https://www.kaggle.com/datasets/kushleshkumar/cornell-car-rental-dataset?select=CarRentalData.csv)*\n",
    "\n",
    "\n",
    "For the purposes of this exercise, you can be creative and make up other aspects of the scenario to help contextualise your anlaysis.\n",
    "\n",
    "---"
   ]
  },
  {
   "cell_type": "markdown",
   "metadata": {
    "tags": []
   },
   "source": [
    "---\n",
    "## EXECUTIVE SUMMARY"
   ]
  },
  {
   "cell_type": "markdown",
   "metadata": {
    "tags": []
   },
   "source": [
    "The purpose of this report is to explore investment potential in the emerging green tourism sector, with a particular focus on luxury electric car rentals for travellers exploring Queensland's coastline. The analysis explores the elements that impact travellers' decision-making, analyses the desire for eco-friendly travel, and evaluates the benefits and limitations of the existing rental model. The findings from this analysis are as follows:\n",
    "\n",
    "**Thearts and Opportunities:** <br>\n",
    "Despite potential bias, an analysis of media sentiment showed a strong positive sentiment towards green tourism. Tourists looking for luxury vehicles for their Queensland road trips are more likely to choose electric vehicles over petrol. The positive sentiment in the media indicates potential for success in the green tourism sector. However, it also poses the threat of increased competition, especially from emerging businesses. \n",
    "\n",
    "**Strengths and Weaknesses:** <br>\n",
    "The current model has advantages such as a large number of electric vehicles available at major airports in Southern Queensland, as well as the presence of charging stations along the coastline. However, the availability of electric vehicles in northern towns is limited, and rental locations are primarily centred in Queensland's southern half.\n",
    "\n",
    "A TOWS analysis is presented to address these findings, highlighting the opportunity to open a rental location in northern Queensland to cater to tourists returning their rental vehicles farther up the coastline. It is reccomended that this rental location be built in Cairns due to it's proximity with an international airport. This strategic move not only aligns with tourists' travel patterns but also benefits local economies and contributes to reducing CO2 emissions."
   ]
  },
  {
   "cell_type": "markdown",
   "metadata": {
    "tags": []
   },
   "source": [
    "---\n",
    "## INTRODUCTION\n",
    "\n"
   ]
  },
  {
   "cell_type": "markdown",
   "metadata": {
    "tags": []
   },
   "source": [
    "### Business Concern\n",
    "The overarching goal of this analysis is to identify an area or areas of investment that will likely result in success by taking advantage of the emerging green tourism market. The focus to achieve this will be through providing a way for tourists to roadtrip up the QLD coastline in luxury electric vehicles. As such it is imperative to gain deep insight into the external and internal factors that influence tourists' decision-making processes when planning a roadtrip. Understanding these factors will allow us to see gaps we can fill to provide a seamless, eco-friendly, and convenient rental experience, positioning our business as a top choice for tourists exploring the Queensland coast. \n",
    "\n",
    "The questions that will be answered are:\n",
    "- **Do tourists prefer green tourism options?**\n",
    "- **What is currently in place to provide a positive beginning, middle and end, electric vehicle rental experience for tourists travelling up the QLD coast?**\n",
    "\n",
    "### Stakeholders\n",
    "- Persons renting the vehicles\n",
    "- Towns travellers visit \n",
    "- Rental company management and employees\n",
    "\n",
    "### Abbreviations\n",
    "- EV: electric and hybrid vehicles\n",
    "- QLD: Queensland\n",
    "\n",
    "### Scope\n",
    "- Only international airports will be used in the analysis as they all have dosmestic terminals and tourists typically fly into the bigger airports for the cheaper fares. \n",
    "\n",
    "### Assumptions\n",
    "- If tourists are choosing to do the road trip in a luxury vehicle, then cost isn't as important as other factors.\n",
    "- Positive or Negative Sentiment in the media is the same as public/tourist opinion. \n",
    "- As roadtrips will go up the QLD coast, tourists want to see/visit the Great Barrier Reef.\n",
    "- Roadtrips go from point A to point B, not point A to point A aka departing and returning to the same place\n"
   ]
  },
  {
   "cell_type": "code",
   "execution_count": null,
   "metadata": {},
   "outputs": [
    {
     "name": "stdout",
     "output_type": "stream",
     "text": [
      "Requirement already satisfied: textblob in /opt/conda/lib/python3.10/site-packages (0.17.1)\n",
      "Requirement already satisfied: nltk>=3.1 in /opt/conda/lib/python3.10/site-packages (from textblob) (3.8.1)\n",
      "Requirement already satisfied: click in /opt/conda/lib/python3.10/site-packages (from nltk>=3.1->textblob) (8.1.6)\n",
      "Requirement already satisfied: joblib in /opt/conda/lib/python3.10/site-packages (from nltk>=3.1->textblob) (1.3.0)\n",
      "Requirement already satisfied: regex>=2021.8.3 in /opt/conda/lib/python3.10/site-packages (from nltk>=3.1->textblob) (2023.10.3)\n",
      "Requirement already satisfied: tqdm in /opt/conda/lib/python3.10/site-packages (from nltk>=3.1->textblob) (4.65.0)\n"
     ]
    }
   ],
   "source": [
    "# install and import libraries needed for this notebook here\n",
    "!pip install textblob\n",
    "import requests\n",
    "import pandas as pd\n",
    "import time\n",
    "from textblob import TextBlob\n",
    "import numpy as np\n",
    "from collections import defaultdict\n",
    "from bs4 import BeautifulSoup\n",
    "import matplotlib.pyplot as plt"
   ]
  },
  {
   "cell_type": "markdown",
   "metadata": {},
   "source": [
    "Matplotlib has been chosen to use for visualisations over Plotly express for the ability to resize visualisations. "
   ]
  },
  {
   "cell_type": "markdown",
   "metadata": {
    "tags": []
   },
   "source": [
    "---\n",
    "## Analysis of Opportunities and Threats\n",
    "\n",
    "> Do tourists prefer green tourism options?\n",
    "\n",
    "To begin, articles from The Guardian OpenPlatform API will be analysed to determine public and therefore tourists preference towards green tourism as positive or negative. It is important to acknowledge the ethical implications of this analysis in that it will be subject to bias as there is only one media outlet being analysed. However, we can still learn at a basic level, the general sentmient towards green tourism. The results of this analysis, along with the established assumption that cost will not factor into the tourists decision, will provide insight into wheather tourists would prefer to rent an electric vhicle or petrol vehicle."
   ]
  },
  {
   "cell_type": "code",
   "execution_count": null,
   "metadata": {},
   "outputs": [],
   "source": [
    "# access the data via API\n",
    "with open('private/guardian_key.txt', 'r') as file:\n",
    "    key = file.read().strip()\n",
    "\n",
    "# URL Inputs\n",
    "base_url = 'https://content.guardianapis.com/'\n",
    "search_string = 'enviromental%20AND20%tourism'\n",
    "section = 'world'\n",
    "production_office = 'aus'\n",
    "from_date = '2023-04-01'\n",
    "\n",
    "# full URL\n",
    "url = base_url + f\"search?q={search_string}&section={section}&production-office={production_office}&from-date={from_date}&show-fields=body&api-key={key}\"\n",
    "\n",
    "# get response data\n",
    "response = requests.get(url)\n",
    "resp_data = response.json()['response']\n",
    "\n",
    "# extract number of pages and articles\n",
    "num_pages = resp_data['pages']\n",
    "num_articles = resp_data['total']\n",
    "\n",
    "# create a function to retrieve articles from a specific page\n",
    "def retrieve_articles_from_page(page_url):\n",
    "    response = requests.get(page_url)\n",
    "    resp_data = response.json()['response']\n",
    "    articles = resp_data.get('results', [])\n",
    "    return articles\n",
    "\n",
    "# function to retrieve articles from all pages\n",
    "def retrieve_all_articles(url):\n",
    "    all_articles = []\n",
    "    page = 1\n",
    "\n",
    "    while page <= num_pages:\n",
    "        page_url = f\"{url}&page={page}\"\n",
    "        articles = retrieve_articles_from_page(page_url)\n",
    "        all_articles.extend(articles)\n",
    "        page += 1\n",
    "        time.sleep(1)  # add time delay to prevent hitting API too hard\n",
    "\n",
    "    return all_articles\n",
    "\n",
    "# retrieve articles from all pages\n",
    "articles = retrieve_all_articles(url)"
   ]
  },
  {
   "cell_type": "markdown",
   "metadata": {},
   "source": [
    "This code provides a structured method of connecting to, and retrieving articles from, The Guardian's API based on the specific search criteria. The code searches for all news articles in the World section from the Australian production office concerning environmental tourism over the past 6 months. These inputs were chosen to cover both international and domestic tourists thoughts and opinions. The functions establish the connection and format the articles into a list once they are retrieved. This list is what we will use to conduct a stentient analysis on the body of each article to determine tourists opinion. "
   ]
  },
  {
   "cell_type": "code",
   "execution_count": null,
   "metadata": {},
   "outputs": [],
   "source": [
    "# create a defaultdict list to store article information\n",
    "article_data = defaultdict(list)\n",
    "\n",
    "# extract information and perform sentiment analysis\n",
    "for article in articles:\n",
    "    title = article['webTitle']\n",
    "    body = article['fields']['body']\n",
    "\n",
    "    # perform sentiment analysis using TextBlob\n",
    "    analysis = TextBlob(body)\n",
    "    sentiment = \"Positive\" if analysis.sentiment.polarity > 0 else \"Negative\"\n",
    "\n",
    "    article_data['Title'].append(title)\n",
    "    article_data['Body'].append(body)\n",
    "    article_data['Sentiment'].append(sentiment)\n",
    "\n",
    "# create a DataFrame with data stored in defaultdict list\n",
    "df = pd.DataFrame(article_data)"
   ]
  },
  {
   "cell_type": "markdown",
   "metadata": {},
   "source": [
    "A default dictionary is created to ensure that individual article information stays together. Then a for loop iterates through the articles and TextBlob, is used to perform sentiment analysis on the article's content. TextBlob was chosen as it is a natural language processing library that computes the text's polarity aka a numerical value that represents the sentiment. If the polarity is greater than zero, the sentiment is classified as \"Positive\"; otherwise, it is classified as \"Negative.\" The title, body and sentient are then added to the article_data dictionary and lastly input into a DataFrame which will be used to visualise tourists sentiment distribution."
   ]
  },
  {
   "cell_type": "code",
   "execution_count": null,
   "metadata": {},
   "outputs": [],
   "source": [
    "# count number of positive and negative sentiments in DataFrame\n",
    "sentiment_counts = df['Sentiment'].value_counts()\n",
    "\n",
    "# calculate the percentages of each sentiment category\n",
    "sentiment_percentages = (sentiment_counts / sentiment_counts.sum()) * 100\n",
    "\n",
    "# create pie chart to visualize\n",
    "labels = [f\"{sentiment} ({percentage:.1f}%)\" for sentiment, percentage in zip(sentiment_counts.index, sentiment_percentages)]\n",
    "\n",
    "# create pie chart\n",
    "plt.figure(figsize=(6, 6))\n",
    "plt.pie(sentiment_counts, labels=labels, startangle=165, autopct='')\n",
    "plt.title('Tourist Sentiment Towards Green Tourism Distribution')\n",
    "plt.show()"
   ]
  },
  {
   "cell_type": "markdown",
   "metadata": {},
   "source": [
    "**Findings:** From the chart, we can see that there is a very strong positive sentiment towards green tourism. \n",
    "\n",
    "This pie chart was chosen to simply display the distribution of tourists sentient from the Guardian API articles. However remembering to consider the ethical factor of media bias, there should be multiple media analysis's conducted to confirm what is being displayed here. Regardless from this information and stated assumptions we can make the statement that tourists who are looking to rent luxury vehicles to travel up the QLD coast would prefer an electric vehicle over petrol."
   ]
  },
  {
   "cell_type": "markdown",
   "metadata": {},
   "source": [
    "___ \n",
    "The information obtained from the sentiment analysis enables us to consider what **Threats** and **Opportunities** are present that will impact the rental car company. \n",
    "\n",
    "> ### Threats\n",
    "> - **Competion:** Given how much media is devoted to positive sentiment of eviromental tourism, there are likely to be both current and emerging businesses looking to benefit from it.\n",
    "> - **Law and Regulations:** Green Tourism is still a young industry and there are not yet enough laws or regulations to control it. \n",
    "\n",
    "> ### Opportunities \n",
    "> - **EV Preference:** Tourists seeking luxury vehicle hire would prefer electric vehicles over petrol vehicles. \n",
    "> - **Green Tourism Success:** There is a likelihood of success given positive sentient in media, signifying that investment in EV's will be beneficial to the business."
   ]
  },
  {
   "cell_type": "markdown",
   "metadata": {
    "tags": []
   },
   "source": [
    "---\n",
    "\n",
    "## Analysis of Strengths and Weaknesses\n",
    "\n",
    ">What is currently in place to support a positive beginning, middle and end, rental experience for tourists travelling up the QLD coast?\n",
    "\n",
    "To understand where the rental company currently stands in its ability to provide a service to tourists, we will begin by identifying some key factors that impact decision-making for these tourists. These factors include at the beginning - number of electric vehicles available and proximity of rental locations to airports; Middle - potential trip routes and distribution of charging stations along the coastline; End - where the tourists will return the vehicles.\n",
    "\n",
    "Firstly, the data must be imported and cleaned."
   ]
  },
  {
   "cell_type": "code",
   "execution_count": null,
   "metadata": {},
   "outputs": [],
   "source": [
    "# read rental data into a DataFrame\n",
    "file_name = 'UA2-Current_vehicles.csv'\n",
    "rental_df = pd.read_csv(f\"data/{file_name}\")\n",
    "\n",
    "# extract relevant data and update DataFrame\n",
    "rental_df = rental_df.iloc[1:385]\n",
    "rental_df.rename(columns={'location.city': 'Location', 'fuelType': 'Fuel Type'}, inplace=True)\n",
    "rental_df['Location'].replace({'Agnes Water ': 'Agnes Water'}, inplace=True)"
   ]
  },
  {
   "cell_type": "markdown",
   "metadata": {},
   "source": [
    "This code reads data from the Current_Vehicles CSV file into the rental_df DataFrame and updates it to only contain rows between 1 and 385 to avoid nan values. The location.city and fuelType columns are renamed for readability. Finally the space is removed from the 'Agnes Water' data as to not hinder the coming analyis.\n",
    "\n",
    "The following code is being run for two purposes, the first to count, and display, the number of EV's in total as well as the number EV's of and petrol vehicles in each location. The second to see if any of the rental locations are close to the QLD international airports, Brisbane, Gold Coast, Sunshine Coast and Cairns. This will show us where the tourists will likely begin their journey due to the number of rental vehicles available and proximity to airports ensuring a quick start to their roadtrip."
   ]
  },
  {
   "cell_type": "code",
   "execution_count": null,
   "metadata": {
    "tags": []
   },
   "outputs": [],
   "source": [
    "# create a pivot table with the counts for each fuel type per location\n",
    "count_pivot = rental_df.pivot_table(index='Location', columns='Fuel Type', values='rating', aggfunc='count')\n",
    "count_pivot = count_pivot.fillna(0) # fill NaN values with 0\n",
    "count_pivot = count_pivot.astype(int) # convert values to integers\n",
    "count_pivot['ELECTRIC/HYBRID'] = count_pivot['ELECTRIC'] + count_pivot['HYBRID'] # combine the counts of 'ELECTRIC' and 'HYBRID' \n",
    "count_pivot.drop(columns=['HYBRID', 'ELECTRIC'], inplace=True) # drop columns\n",
    "\n",
    "# calculate total count of 'ELECTRIC/HYBRID' and 'PETROL'\n",
    "total_electric_hybrid = count_pivot['ELECTRIC/HYBRID'].sum()\n",
    "total_petrol = count_pivot['PETROL'].sum()\n",
    "\n",
    "# print total counts and pivot table\n",
    "print(\"There are\", total_petrol, \"petrol vehicles and\", total_electric_hybrid, \"electric/hybrid vehicles in the rental fleet.\")\n",
    "\n",
    "# Extract the data for visualisation\n",
    "locations = count_pivot.index\n",
    "electric_hybrid_counts = count_pivot['ELECTRIC/HYBRID']\n",
    "petrol_counts = count_pivot['PETROL']\n",
    "\n",
    "# Set the width of the bars\n",
    "bar_width = 0.40\n",
    "\n",
    "# Create an array of indexes for the locations\n",
    "x = range(len(locations))\n",
    "\n",
    "# Create the bar chart\n",
    "plt.bar(x, electric_hybrid_counts, bar_width, label = 'ELECTRIC/HYBRID')\n",
    "plt.bar([i + bar_width for i in x], petrol_counts, bar_width, label = 'PETROL')\n",
    "\n",
    "# Set the ticks, labels and legend\n",
    "plt.xticks([i + bar_width / 2 for i in x], locations, rotation=90)\n",
    "plt.xlabel('Location')\n",
    "plt.ylabel('Count')\n",
    "plt.title('Number of Electric/Hybrid and Petrol Cars by Location')\n",
    "plt.legend()\n",
    "plt.tight_layout()\n",
    "plt.show()"
   ]
  },
  {
   "cell_type": "markdown",
   "metadata": {
    "tags": []
   },
   "source": [
    "**Findings:** There are 155 EV's in the rental fleet and as the visualisation shows, the top three locations with the highest number of EV's are, Gold Coast (36), Brisbane (34) and Sunshine Coast (18). The total of EV's in the southern most rental locations is 88, which is over half of the EV fleet. The locations also happen to be where three out of the four international airports are located. This information allows us to see that there are plenty of EV's available for tourists in the best locations for them to start their roadtrip up the QLD coast. \n",
    "\n",
    "Now we can look into the factor that will impact the tourists during their roadtrip, available charging stations. To do so, the ['Find a charging station — Electric vehicle'](https://www.data.qld.gov.au/dataset/find-a-charging-station-electric-vehicle) csv file available on the QLD Government Data Portal will be imported and cleaned for analysis. "
   ]
  },
  {
   "cell_type": "code",
   "execution_count": null,
   "metadata": {},
   "outputs": [],
   "source": [
    "# read charging data into a DataFrame\n",
    "csv_url = 'https://www.tmr.qld.gov.au/-/media/aboutus/corpinfo/Open%20data/findachargingev/csl_ev.csv'\n",
    "charging_df = pd.read_csv(csv_url)\n",
    "charging_df.head()\n",
    "\n",
    "# rename coulmn to Location to be used for merging\n",
    "charging_df.rename(columns={'Location Name': 'Location'}, inplace=True)\n",
    "# list of locations to be  removed because they aren't on the coastline \n",
    "locations_to_remove = ['Gatton', 'Toowoomba', 'Springfield']\n",
    "charging_df = charging_df[~charging_df['Location'].isin(locations_to_remove)]\n",
    "charging_df"
   ]
  },
  {
   "cell_type": "markdown",
   "metadata": {},
   "source": [
    "**Findings:** There are 14 charging locations that sit on the QLD coastline. The 3 that aren't on the coastline are Gatton, Toowoomba and Springfield. Tourists need not to worry about finding charging stations as there locations all the way up the QLD coast for them to stop. Tourists will be able to plan their trips around the charging locations. \n",
    "\n",
    "After inspecting the charging_df data, we can see that there are latitude and longitude coordinates for the charging locations. A great way to comprehend the available charging locations and therefore potential roadtrip routes with this data, would be to combine the charging, rental and airport data in a visualisation that uses the latitude and longitude coordinates as x and y values. To acheive this we will need to create data and restructure the DataFrames to suit our goals. But then end result will show information tourists will consider at every point in their journey. "
   ]
  },
  {
   "cell_type": "code",
   "execution_count": null,
   "metadata": {
    "tags": []
   },
   "outputs": [],
   "source": [
    "# create airport DataFrame\n",
    "airport_locations = ['Gold Coast', 'Brisbane', 'Sunshine Coast', 'Cairns']\n",
    "airport_df = pd.DataFrame({'Location': airport_locations, 'Airport': True})\n",
    "\n",
    "# create Rental column in rental_df\n",
    "rental_df['Rental'] = True\n",
    "# extract the unique Locations from current_df\n",
    "rental_df = rental_df.groupby(['Location'])['Rental'].first().reset_index()\n",
    "\n",
    "# create Charging column with the values True\n",
    "charging_df['Charging'] = True\n",
    "# update data frame for only relevant information\n",
    "charging_df = charging_df[['Location', 'Charging', 'Latitude', 'Longitude']]\n",
    "\n",
    "\n",
    "\n",
    "# combine location data from both data frames\n",
    "all_locations = pd.concat([rental_df['Location'], airport_df['Location'], charging_df['Location']]).unique()\n",
    "\n",
    "# create insight_df with distinct Location and Rental columns\n",
    "insight_df = pd.DataFrame({'Location': all_locations})\n",
    "insight_df['Rental'] = insight_df['Location'].isin(rental_df['Location'])\n",
    "insight_df['Airport'] = insight_df['Location'].isin(airport_locations)\n",
    "insight_df['Charging'] = insight_df['Location'].isin(charging_df['Location'])\n",
    "\n",
    "# drop Charging column from charging_df as to not create duplicate columns in the locations_df\n",
    "charging_df.drop(columns=['Charging'], inplace=True)\n",
    "\n",
    "# merge rental_df and current_df for a complete data frame of all Locations\n",
    "locations_df = pd.merge(insight_df.drop_duplicates(subset=['Location']),\n",
    "                     charging_df.drop_duplicates(subset=['Location']),\n",
    "                     on='Location', how='outer')\n",
    "\n",
    "# create list of 'Location' names with NaN in 'Latitude'\n",
    "locations = locations_df.loc[locations_df['Latitude'].isna(), 'Location'].tolist()\n",
    "print(\"----------\")\n",
    "print(\"Locations without coordinates:\")\n",
    "for location in locations:\n",
    "    print(location)\n",
    "print(\"----------\")"
   ]
  },
  {
   "cell_type": "markdown",
   "metadata": {},
   "source": [
    "This codes creates separate DataFrames for airport locations, rental locations, and charging locations, each with their unique location information and a \"True\" column that will be used to differentiate them in the visualisation. The three DataFrames are then merged into a new DataFrame called locations_df. From the locations_df we identified which locations lack latitude and longitude coordinates. \n",
    "\n",
    "As we need the coordinates for all locations for this visualisation to be helpful to our undertsanding of what is currently in place to provide a positive beginning, middle and end, electric vehicle rental experience for tourists travelling up the QLD coast. We will scrap the missing coordinates from the web and add them into the locations_df."
   ]
  },
  {
   "cell_type": "code",
   "execution_count": null,
   "metadata": {},
   "outputs": [],
   "source": [
    "# dictionary of location  wikipedia URLs\n",
    "wikipedia_urls = {\n",
    "    'Agnes Water': 'https://en.wikipedia.org/wiki/Agnes_Water,_Queensland',\n",
    "    'Bundaberg': 'https://en.wikipedia.org/wiki/Bundaberg',\n",
    "    'Gladstone': 'https://en.wikipedia.org/wiki/Gladstone,_Queensland',\n",
    "    'Gold Coast': 'https://en.wikipedia.org/wiki/Gold_Coast,_Queensland',\n",
    "    'Gympie': 'https://en.wikipedia.org/wiki/Gympie',\n",
    "    'Hervey Bay': 'https://en.wikipedia.org/wiki/Hervey_Bay',\n",
    "    'Sunshine Coast': 'https://en.wikipedia.org/wiki/Sunshine_Coast,_Queensland',\n",
    "    'Yeppoon': 'https://en.wikipedia.org/wiki/Yeppoon'\n",
    "}\n",
    "\n",
    "# function to get HTML content from a URL\n",
    "def get_html_content(url):\n",
    "    response = requests.get(url)\n",
    "    return response.content\n",
    "\n",
    "# function to extract coordinates from HTML content\n",
    "def extract_coordinates(html_content):\n",
    "    soup = BeautifulSoup(html_content, \"html.parser\")\n",
    "    span_element = soup.find(class_=\"geo-dec\")\n",
    "    coordinates = span_element.text\n",
    "    return coordinates\n",
    "\n",
    "# function to split and format coordinates\n",
    "def split_and_format_coordinates(coordinates_str):\n",
    "    lat_str, long_str = coordinates_str.split()\n",
    "    lat_value, lat_direction = float(lat_str[:-2]), lat_str[-1]\n",
    "    long_value, long_direction = float(long_str[:-2]), long_str[-1]\n",
    "    if lat_direction == 'S':\n",
    "        lat_value = -lat_value\n",
    "    return lat_value, long_value\n",
    "\n",
    "# extract latitude and longitude for Locations without coordinate data\n",
    "location_data = []\n",
    "for location in locations:\n",
    "    html_content = get_html_content(wikipedia_urls.get(location, ''))\n",
    "    coordinates_str = extract_coordinates(html_content)\n",
    "    lat, long = split_and_format_coordinates(coordinates_str)\n",
    "    location_data.append({'Location': location, 'Latitude': lat, 'Longitude': long})\n",
    "    \n",
    "# create coordinates_df to fill with extracted coordinates\n",
    "coordinates_df = pd.DataFrame(location_data)\n",
    "\n",
    "# merge locations_df and coordinates_df based on 'Location'\n",
    "locations_df = locations_df.merge(coordinates_df, on='Location', how='left')\n",
    "\n",
    "# fill NaN values in 'Latitude' and 'Longitude' columns\n",
    "locations_df['Latitude_x'].fillna(locations_df['Latitude_y'], inplace=True)\n",
    "locations_df['Longitude_x'].fillna(locations_df['Longitude_y'], inplace=True)\n",
    "\n",
    "# rename columns\n",
    "locations_df = locations_df.rename(columns={'Latitude_x':'Latitude'}) \n",
    "locations_df = locations_df.rename(columns={'Longitude_x':'Longitude'})\n",
    "\n",
    "# drop unnecessary columns and fill Nan with False\n",
    "locations_df.drop(columns=['Latitude_y', 'Longitude_y'], inplace=True)\n",
    "locations_df = locations_df.fillna(False)  # fill NaN values with 0\n",
    "\n",
    "print(\"----------\")\n",
    "print(\"Locations DF\")\n",
    "print(\"----------\")\n",
    "print(locations_df)"
   ]
  },
  {
   "cell_type": "markdown",
   "metadata": {
    "tags": []
   },
   "source": [
    "The first section of code establishes of a dictionary of the locations that are present in the list with no coordinates and the respective wikipedis URL of that location. The first function sends an GET request to the url using the requests.get() method and retrieves the HTML content of the webpage. The second function takes the HTML content from the first function and uses the BeautifulSoup library to parse the HTML content and extract the coordinates. The third function takes the extracted coordinates from the second function, splits them into latitude and longitude values, then formats them to match the already existing values in the locations_df. These functions work togther in the fourth section of code, the for loop, which iterates through the wikipedia_urls dictionary extracting and adding the longitude and latitude coordinates into the location_data variable. \n",
    "\n",
    "This varible is then used to create a new DataFrame called coordinates_df which is then used to merge with the locations_df. As the merge creates additional latitude and longitude columns, the next lines fill the previously established columns with the values from the created columns. Finally, the code drops the old columns that are empty and the result is a DataFrame that can now be turned into a visualisation. The purpose of this code to remove all uneccessary information from the DataFrame to ensure the visualisation detailing rental, airpot and charging locations along the QLD coast is clean and easily understood. "
   ]
  },
  {
   "cell_type": "code",
   "execution_count": null,
   "metadata": {
    "tags": []
   },
   "outputs": [],
   "source": [
    "# create a column in locations_df to assign values for scatter plot point colours\n",
    "locations_df.loc[locations_df['Rental'] == True, 'Color'] = 'Rent'\n",
    "locations_df.loc[locations_df['Charging'] == True, 'Color'] = 'Charge'\n",
    "locations_df.loc[(locations_df['Rental'] == True) & (locations_df['Charging'] == True), 'Color'] = 'Charge/Rent'\n",
    "locations_df.loc[(locations_df['Rental'] == True) & (locations_df['Airport'] == True), 'Color'] = 'Airport/Rent'\n",
    "locations_df.loc[(locations_df['Charging'] == True) & (locations_df['Airport'] == True), 'Color'] = 'Airport/Charge'\n",
    "locations_df.loc[(locations_df['Rental'] == True) & (locations_df['Charging'] == True) & (locations_df['Airport'] == True), 'Color'] = 'Airport/Charge/Rent'\n",
    "\n",
    "# define colors for scatter plot points\n",
    "colors = {'Rent': 'red', 'Charge': 'green', 'Charge/Rent': 'blue', 'Airport/Rent': 'orange', 'Airport/Charge': 'gold', 'Airport/Charge/Rent': 'pink'}\n",
    "\n",
    "# function to add data labels from different data frames\n",
    "def add_data_labels(data_df, xytext=(5, 5), ha='left', va='bottom'):\n",
    "    for i, row in data_df.iterrows():\n",
    "        plt.annotate(row['Location'], (row['Longitude'], row['Latitude']), textcoords='offset points', xytext=xytext, ha=ha, va=va)\n",
    "\n",
    "def plot_location_data(locations_df, charging_df, coordinates_df, colors):\n",
    "    # create scatter plot\n",
    "    plt.figure(figsize=(10, 12))\n",
    "    for category, group in locations_df.groupby('Color'):\n",
    "        plt.scatter(group['Longitude'], group['Latitude'], label=category, c=colors[category], s=150)\n",
    "\n",
    "    # add data labels using fucntion\n",
    "    add_data_labels(charging_df, xytext=(-10, -6), ha='right')\n",
    "    add_data_labels(coordinates_df, xytext=(10, -5), ha='left')\n",
    "\n",
    "    # add plot title, axis labels, legend and grid\n",
    "    plt.title('Rental, Airport and Charging Locations along QLD coast')\n",
    "    plt.xlabel('Longitude')\n",
    "    plt.ylabel('Latitude')  \n",
    "    plt.legend(loc='upper right', title='Location Type')\n",
    "    plt.grid(True, linestyle=':')\n",
    "    plt.xticks(range(145, 156))"
   ]
  },
  {
   "cell_type": "markdown",
   "metadata": {},
   "source": [
    "The code firstly creates a new column in the locations_df and assigns varibles to the locations that have any and all combination of rental, airport and charging as True. Next a dictionary of colours is defined to assign different colours to those variables - which will be used to specify the color of each point in the visualisation. Next a function is created that ensures the label positioning of each data point does not overlap. The following code establishes a function to plot the visualisation as a scatter polt graph. A for loop iterates through the locations_df to plot each point individually per its specific colour. The x and y axis is structured to make the visualistaion appear to follow the shape of QLD. The add_data_labels function places the location of each point in an easy to read location. Finally, a title, axis labels and a legend are added to ensure understandability by the reader. This code provides a birdseye view of the distance between charging, rental and airport locations and enables us to understand how tourists will plan their road trip up the QLD coast."
   ]
  },
  {
   "cell_type": "code",
   "execution_count": null,
   "metadata": {
    "tags": []
   },
   "outputs": [],
   "source": [
    "plot_location_data(locations_df, charging_df, coordinates_df, colors)"
   ]
  },
  {
   "cell_type": "markdown",
   "metadata": {},
   "source": [
    "**Findings:** Wherever tourists choose to rent an electric vehicle there is a charging station near by or in the same place. In addition as long as they choose to drive up the coastline, there is a charging station at the next large town. The visualisation also details that, if tourists wish to travel all the way up to Townsville or Cairns on their roadtrip, they will have to drive back to at least Rockhampton or Yepoon to return the vehicle. "
   ]
  },
  {
   "cell_type": "markdown",
   "metadata": {},
   "source": [
    "---\n",
    "\n",
    "This analysis enables us to identify **strengths** and **weaknesses** in our current business model to how we service tourists looking to travel up the QLD coast in a luxury vehicle. \n",
    "\n",
    "> ### Strengths\n",
    "> - **Southern Vehicle Count:** Electric vehicles take up more than half at Gold Coast location, almost half at Brisbane location, and a third in the Sunshine Coast. \n",
    "> - **Airport Proximity:** 3 of the 4 International Airports are in the same place as rental locations.\n",
    "> - **Spread:** Electric and hybrid cars are avaiable at every location. \n",
    "> - **Charging Locations:** 14 charging locations cover the cost from Coolangatta to Cairns. \n",
    "    \n",
    "> ### Weaknessess\n",
    "> - **Northern Vehicle Count:** Limited number of electric vehicles available in the smaller northern towns.\n",
    "> - **Rental Coverage:** Rental locations are only in the lower half of Queensland. "
   ]
  },
  {
   "cell_type": "code",
   "execution_count": null,
   "metadata": {},
   "outputs": [],
   "source": []
  },
  {
   "cell_type": "markdown",
   "metadata": {
    "tags": []
   },
   "source": [
    "___\n",
    "\n",
    "## TOWS ANALYSIS"
   ]
  },
  {
   "cell_type": "markdown",
   "metadata": {
    "tags": []
   },
   "source": [
    "`Open rental location in northern QLD with only electric vehicles` <br>\n",
    "\n",
    "**Oppurtunity:** EV Preference - Tourists seeking luxury vehicle hire would prefer electric vehicles over petrol vehicles. <br>\n",
    "**Weakness:** Rental Coverage - Rental locations are only in the lower half of Queensland.\n",
    "\n",
    "One way for the rental company to provide to tourists travelling up the QLD coast is to offer them a rental location to drop off their vehicles further up the coastline. This makes the company more appleaing to tourists as they won't have to plan for extra time to make it back down the coastline. "
   ]
  },
  {
   "cell_type": "markdown",
   "metadata": {},
   "source": [
    "---\n",
    "\n",
    "## CONCLUSION"
   ]
  },
  {
   "cell_type": "markdown",
   "metadata": {},
   "source": [
    "Our main goal for this analysis was to identify the best investment opportunity for electric vehicles in the growing green tourism sector. Our company aims to offer tourists the opportunity to enjoy luxury electric vehicle travel along the stunning Queensland coastline. To achieve this, it's crucial to allow tourists to return their rental cars in northern Queensland.\n",
    "\n",
    "The insights gained throughout this report have given us a better understanding of how tourists plan their road trips. Considering the ethical factor of media bias, due to the general public's positive sentiment towards green tourism, our analysis identified that tourists renting luxury vehicles are more likely to choose an electric vehicle over petrol. Additionally, our company makes the start of their journey stress-free by providing multiple electric vehicles at the same locations as the three major international airports in southern Queensland – Gold Coast, Brisbane, and Sunshine Coast. \n",
    "\n",
    "However, to complete their trip, tourists must either retrace their route or return their vehicles to Rockhampton or Yeppoon. Without a location in northern Queensland, tourists might opt for another rental company, and we won't be able to offer them the chance to drive our luxury vehicles along the Queensland coast. Therefore it is recommended that a rental location be opened in Cairns and should be fitted with only electric vehicles. Cairns emerges as the ideal choice, as it allows us to have rental locations in the same place as all four international airports. Tourists are likely to book their trips around airports, as they serve as convenient entry and exit points for their journeys. Through this action, our company can also contribute to boosting tourism in numerous coastal towns. When tourists stop to charge their electric vehicles in the various available charging locations, they will likely be staying in hotels and dining in restaurants in the area, which will stimulate the local economy in these smaller towns.\n",
    "\n",
    "By establishing a rental location in Cairns, our company will not only be proactive in meeting the needs of tourists but also contribute to the reduction of CO2 emissions by reducing the number of petrol vehicles on the road. This decision aligns with our company's commitment to environmental conservation and positions our business as a top choice for tourists travelling up the Queensland coast."
   ]
  },
  {
   "cell_type": "markdown",
   "metadata": {
    "tags": []
   },
   "source": [
    "---\n",
    "\n",
    "## Peer review"
   ]
  },
  {
   "cell_type": "markdown",
   "metadata": {},
   "source": [
    "#### Feedback received - reviewer 1: Joyce Punzalan (N9762663)\n",
    "\n",
    "Elle, your report stands out for its unique and highly specific recommendations for the business, which I found particularly valuable. The sentiment analysis pie chart provides essential insights, although it's worth noting that the high skewness might be attributed to bias, which may be worth considering. While your markdowns are informative about your coding process, I would suggest explaining how the code can impact the analysis, and in some instances, elaborating on why it is instrumental in furthering the exploration of the data. Additionally, adding comments on the results or data outputs, and their relevance to the analysis, can enhance the reader's understanding. Expanding on the visuals' significance or their connection to the strengths, opportunities, weaknesses, or threats analysis can create a more seamless and informative transition. Lastly, I recommend including discussions on ethical factors and data limitations, as this will add human transparency to the analysis. Overall, your report is well-done and I enjoyed reading it."
   ]
  },
  {
   "cell_type": "markdown",
   "metadata": {},
   "source": [
    "#### Feedback received - reviewer 2: Simon Hanmer (N10983660)\n",
    "\n",
    "Ellen your report is clear and insightful. All the figures you have chosen to use clearly convey the information they present and the flow of the report is very smooth (it was very easy to follow the narrative you created throughout. In the later stages of the report, the code is implemented and explained excellently but I felt that this was less present early in the report and a similar style of introducing each block of code would make the purpose more clear to the reader. There may be some benefit in discussing the potential bias of the articles from the Guardian, given they are overwhelmingly positive and from a single media source that may have editorial or political biases. The report may also benefit from a clearer explanation of the intersection between the SWOT factors that form the TOWS analysis but in saying this the unique SWOT factors and recommendations are a highlight of your report."
   ]
  },
  {
   "cell_type": "markdown",
   "metadata": {},
   "source": [
    "#### Feedback received - reviewer 3: Jamie Yates (N11241187)\n",
    "\n",
    "Ellen, I found each step in your report very purposeful and well-structured! I may just consider filtering down the amount of articles you received through your API request since I know you can get marked down for retrieving too many. Just reading through, it wasn't very clear to me how you came to the conclusions within your TOWS analysis so maybe just add one or two sentences on how you came to the conclusions you did. Otherwise it's great."
   ]
  },
  {
   "cell_type": "markdown",
   "metadata": {},
   "source": [
    "#### Response to feedback received:\n",
    "\n",
    "The feedback from my peers helped me realise the missing elements that connected my analysis together. From this understanding I was able to drawback and focus on the narrative to ensure it was consistant throughout my report. \n",
    "\n",
    "---"
   ]
  },
  {
   "cell_type": "markdown",
   "metadata": {},
   "source": [
    "#### Feedback given to reviewer 1:\n",
    "\n",
    "Joyce, the structure of your report is brilliant, it’s super easy to follow and and your clever use of HTML make sure the right information stands out. Your business concern is difficult to comprehend - I’m unsure if you mean “The exploration of tourists' impressions of EVs, and how they are influential towards the business' industrial success in the emerging ecotourism landscape.” or something different. I also appreciate the way you guide the reader through your report, however I do think the reader could benefit from an explanation of why you chose to use the code that you did. Lastly, you cover so many different angels in your TOWS and recommendations that I think you could benefit from picking a couple and being more specific."
   ]
  },
  {
   "cell_type": "markdown",
   "metadata": {},
   "source": [
    "#### Feedback given to reviewer 2:\n",
    "\n",
    "Simon, I think all the analysis you have done provide great information, however the volume of information makes the report unclear. I would recommend cutting back on what you think are your weaker analysis to focus on the stronger ones and clearly stating the connection throughout the report. I really enjoyed the capital outlay section of your report, I think it was a smart choice to use given the scenario. I also loved the distribution of sentient scores."
   ]
  },
  {
   "cell_type": "markdown",
   "metadata": {},
   "source": [
    "#### Feedback given to reviewer 3:\n",
    "\n",
    "Jamie, I love the depth you analysis dives into, however it can be hard to follow along with the amount of print lines you have throughout your code.  I would suggest only printing the things that add value to your analysis to avoid the reader getting lost. One of my favourite parts in your report is the standardisation test you did to determine which fuel type had the actual lower rating. I think a visual to detail that difference would be an awesome addition and boost your recommendations. "
   ]
  }
 ],
 "metadata": {
  "kernelspec": {
   "display_name": "Python 3 (ipykernel)",
   "language": "python",
   "name": "python3"
  },
  "language_info": {
   "codemirror_mode": {
    "name": "ipython",
    "version": 3
   },
   "file_extension": ".py",
   "mimetype": "text/x-python",
   "name": "python",
   "nbconvert_exporter": "python",
   "pygments_lexer": "ipython3",
   "version": "3.10.12"
  },
  "qut": {
   "creation_period": "2023_sem2",
   "nb_name": "UA2-assignment2-template",
   "unit_code": "IAB303"
  }
 },
 "nbformat": 4,
 "nbformat_minor": 4
}
